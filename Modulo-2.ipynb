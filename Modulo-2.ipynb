{
 "cells": [
  {
   "cell_type": "markdown",
   "metadata": {},
   "source": []
  },
  {
   "cell_type": "markdown",
   "metadata": {},
   "source": [
    "Redes:\n",
    "* ```Cuenta de Git hub```: [JibhranAguilar96](https://github.com/JibhranLimon96)\n",
    "* ```Cuenta de Twitter```: [@jibhranL](https://www.linkedin.com/in/jibhran-aguilar-lim%C3%B3n-654978216)\n",
    "* ```Linkedin```: [@jibhranL](https://www.linkedin.com/in/jibhran-aguilar-lim%C3%B3n-654978216)"
   ]
  }
 ],
 "metadata": {
  "interpreter": {
   "hash": "33ddba1413d4fa37debf38b4fe2bc882524acb7439f96c9b852d547e669f896b"
  },
  "kernelspec": {
   "display_name": "Python 3.9.7 ('base')",
   "language": "python",
   "name": "python3"
  },
  "language_info": {
   "codemirror_mode": {
    "name": "ipython",
    "version": 3
   },
   "file_extension": ".py",
   "mimetype": "text/x-python",
   "name": "python",
   "nbconvert_exporter": "python",
   "pygments_lexer": "ipython3",
   "version": "3.9.7"
  },
  "orig_nbformat": 4
 },
 "nbformat": 4,
 "nbformat_minor": 2
}
